{
 "cells": [
  {
   "cell_type": "code",
   "execution_count": 1,
   "id": "fdb49fc9-0c01-4220-a036-ed3f0f610262",
   "metadata": {},
   "outputs": [],
   "source": [
    "import cv2"
   ]
  },
  {
   "cell_type": "code",
   "execution_count": 4,
   "id": "c416dcc2-1b27-4d7d-8ca0-6d1657c836f1",
   "metadata": {
    "tags": []
   },
   "outputs": [],
   "source": [
    "import numpy as np"
   ]
  },
  {
   "cell_type": "code",
   "execution_count": 5,
   "id": "3dd3dc33-7e56-4125-935d-5d14a5799373",
   "metadata": {
    "tags": []
   },
   "outputs": [],
   "source": [
    "# Load an image using 'imread' specifying the path to image\n",
    "input = cv2.imread('rdj.jpg')\n",
    "\n",
    "# Our file 'input.jpg' is now loaded and stored in python \n",
    "# as a varaible we named 'input'\n",
    "\n",
    "# To display our input variable, we use 'imshow'\n",
    "# The first parameter will be title shown on image window\n",
    "# The second parameter is the image varialbe\n",
    "cv2.imshow('Robert Downey Jr', input)\n",
    "\n",
    "# 'waitKey' allows us to input information when a image window is open\n",
    "# By leaving it blank it just waits for anykey to be pressed before \n",
    "# continuing. By placing numbers (except 0), we can specify a delay for\n",
    "# how long you keep the window open (time is in milliseconds here)\n",
    "cv2.waitKey()\n",
    "\n",
    "# This closes all open windows \n",
    "# Failure to place this will cause your program to hang\n",
    "cv2.destroyAllWindows()"
   ]
  },
  {
   "cell_type": "code",
   "execution_count": 6,
   "id": "0b26ab87-b6df-4acf-abc2-9d62b3580673",
   "metadata": {
    "tags": []
   },
   "outputs": [
    {
     "name": "stdout",
     "output_type": "stream",
     "text": [
      "(259, 194, 3)\n"
     ]
    }
   ],
   "source": [
    "print(input.shape)"
   ]
  },
  {
   "cell_type": "code",
   "execution_count": 8,
   "id": "fc474434-fbad-4d9f-8a77-585f2f021507",
   "metadata": {
    "tags": []
   },
   "outputs": [
    {
     "name": "stdout",
     "output_type": "stream",
     "text": [
      "Height of image : 259 pixels\n",
      "Width of image : 194 pixels\n"
     ]
    }
   ],
   "source": [
    "print('Height of image :', int(input.shape[0]), 'pixels')\n",
    "print('Width of image :', int(input.shape[1]), 'pixels')"
   ]
  },
  {
   "cell_type": "code",
   "execution_count": 10,
   "id": "0374e993-f3b1-41f5-a917-0ec5a4c08931",
   "metadata": {
    "tags": []
   },
   "outputs": [
    {
     "data": {
      "text/plain": [
       "True"
      ]
     },
     "execution_count": 10,
     "metadata": {},
     "output_type": "execute_result"
    }
   ],
   "source": [
    "# Simply use 'imwrite' specificing the file name and the image to be saved\n",
    "cv2.imwrite('outputRDJ.jpg',input)"
   ]
  },
  {
   "cell_type": "markdown",
   "id": "102f41d7-983a-4975-9f6f-72843c9aedb6",
   "metadata": {},
   "source": [
    "# Face & Eye Detection using HAAR Cascade Classifiers"
   ]
  },
  {
   "cell_type": "markdown",
   "id": "454a4137-a60a-444b-98d9-e8377902c921",
   "metadata": {
    "tags": []
   },
   "source": [
    "import numpy as np\n",
    "import cv2\n",
    "\n",
    "# We point OpenCV's CascadeClassifier function to where our \n",
    "# classifier (XML file format) is stored\n",
    "face_classifier = cv2.CascadeClassifier('haarcascade_frontalface_default.xml')\n",
    "\n",
    "# Load our image then convert it to grayscale\n",
    "image = cv2.imread('rdj.jpg')\n",
    "gray = cv2.cvtColor(image, cv2.COLOR_BGR2GRAY)\n",
    "\n",
    "# Our classifier returns the ROI of the detected face as a tuple\n",
    "# It stores the top left coordinate and the bottom right coordiantes\n",
    "faces = face_classifier.detectMultiScale(gray, 1.3, 5)\n",
    "\n",
    "# When no faces detected, face_classifier returns and empty tuple\n",
    "if faces is ():\n",
    "    print(\"No face found\")\n",
    "    \n",
    "# We iterate through our faces array and draw a rectangle\n",
    "# over each face in faces\n",
    "for (x,y,w,h) in faces:\n",
    "    cv2.rectangle(image, (x,y), (x+w,y+h), (127,0,255), 2)\n",
    "    cv2.imshow('Face Detection', image)\n",
    "    cv2.waitKey(0)\n",
    "\n",
    "cv2.destroyAllWindows()"
   ]
  },
  {
   "cell_type": "markdown",
   "id": "5dc2fa88-402e-4b48-95a4-128a3d7fbb48",
   "metadata": {
    "tags": []
   },
   "source": [
    "# Let's combine Face and Eye Detection"
   ]
  },
  {
   "cell_type": "code",
   "execution_count": 18,
   "id": "7965790f-ec8a-41d0-86e8-32d43e07d952",
   "metadata": {
    "tags": []
   },
   "outputs": [
    {
     "name": "stderr",
     "output_type": "stream",
     "text": [
      "<>:10: SyntaxWarning: \"is\" with a literal. Did you mean \"==\"?\n",
      "<>:10: SyntaxWarning: \"is\" with a literal. Did you mean \"==\"?\n",
      "/var/folders/hy/6chg5q7d45g2wv57790cvv080000gn/T/ipykernel_50246/2121329451.py:10: SyntaxWarning: \"is\" with a literal. Did you mean \"==\"?\n",
      "  if faces is ():\n"
     ]
    }
   ],
   "source": [
    "face_classifier = cv2.CascadeClassifier('haarcascade_frontalface_default.xml')\n",
    "eye_classifier = cv2.CascadeClassifier('haarcascade_eye.xml')\n",
    "\n",
    "# Load image using imread\n",
    "image = cv2.imread('ryan.jpg')\n",
    "gray = cv2.cvtColor(image, cv2.COLOR_BGR2GRAY)\n",
    "\n",
    "faces = face_classifier.detectMultiScale(gray, scaleFactor=1.3, minNeighbors=5)\n",
    "\n",
    "if faces is ():\n",
    "    print(\"No face found\")\n",
    "    \n",
    "for (x,y,w,h) in faces:\n",
    "    cv2.rectangle(image, (x,y), (x+w, y+h), (127,0,255), thickness=2)\n",
    "    cv2.imshow('img', image)\n",
    "    cv2.waitKey(0)\n",
    "    roi_gray = gray[y:y+h, x:x+w]\n",
    "    roi_color = image[y:y+h, x:x+w]\n",
    "    eyes = eye_classifier.detectMultiScale(roi_gray)\n",
    "    for (ex,ey,ew,eh) in eyes:\n",
    "        cv2.rectangle(roi_color, (ex,ey), (ex+w, ey+eh), (255,255,0), 2)\n",
    "        cv2.imshow('img',image)\n",
    "        cv2.waitKey(0)\n",
    "cv2.destroyAllWindows()"
   ]
  },
  {
   "cell_type": "markdown",
   "id": "d3da9c46-fd46-493c-8afd-232f9069ffb0",
   "metadata": {},
   "source": [
    "## Let's Make a live face & eye detection, keeping the face inview at all times"
   ]
  },
  {
   "cell_type": "code",
   "execution_count": 19,
   "id": "e1cf7fb4-74c1-4bef-bf28-deb47e243c54",
   "metadata": {
    "tags": []
   },
   "outputs": [],
   "source": [
    "def detect_frame(frame, gray):\n",
    "    faces = face_classifier.detectMultiScale(gray, 1.3, 2)\n",
    "    for (x,y,w,h) in faces:\n",
    "        cv2.rectangle(frame, (x,y), (x+w,y+h), (127,0,255), 2)\n",
    "        roi_gray = gray[y:y+h, x:x+w]\n",
    "        roi_frame = frame[y:y+h, x:x+w]\n",
    "        eyes = eye_classifier.detectMultiScale(roi_gray)\n",
    "        for (ex,ey,ew,eh) in eyes:\n",
    "            cv2.rectangle(roi_frame, (ex,ey), (ex+ew, ey+eh), (255,0,255), 2)\n",
    "    return frame\n",
    "\n",
    "        "
   ]
  },
  {
   "cell_type": "code",
   "execution_count": null,
   "id": "27988abd-ff28-4a63-a7b6-cc3a00dfdb09",
   "metadata": {
    "tags": []
   },
   "outputs": [],
   "source": [
    "import numpy as np\n",
    "import cv2\n",
    "\n",
    "face_classifier = cv2.CascadeClassifier('haarcascade_frontalface_default.xml')\n",
    "eye_classifier = cv2.CascadeClassifier('haarcascade_eye.xml')\n",
    "\n",
    "video_capture = cv2.VideoCapture(0)\n",
    "while True:\n",
    "    _, frame = video_capture.read()\n",
    "    gray = cv2.cvtcolor(frame, cv2.COLOR_BGR2GRAY)\n",
    "    canvas = detect_face(frame, gray)\n",
    "    cv2.imshow('Video', canvas)\n",
    "    if cv2.waitKey(1) and 0xFF == ord('q'):\n",
    "        break\n",
    "video_capture.release()\n",
    "cv2.destroyAllWindows()"
   ]
  },
  {
   "cell_type": "code",
   "execution_count": null,
   "id": "8b25093e-f62f-4e44-8c54-10eff956356a",
   "metadata": {},
   "outputs": [],
   "source": []
  }
 ],
 "metadata": {
  "kernelspec": {
   "display_name": "Python 3 (ipykernel)",
   "language": "python",
   "name": "python3"
  },
  "language_info": {
   "codemirror_mode": {
    "name": "ipython",
    "version": 3
   },
   "file_extension": ".py",
   "mimetype": "text/x-python",
   "name": "python",
   "nbconvert_exporter": "python",
   "pygments_lexer": "ipython3",
   "version": "3.11.3"
  }
 },
 "nbformat": 4,
 "nbformat_minor": 5
}
